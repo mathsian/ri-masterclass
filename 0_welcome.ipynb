{
 "cells": [
  {
   "cell_type": "markdown",
   "metadata": {},
   "source": [
    "# 0 Welcome"
   ]
  },
  {
   "cell_type": "markdown",
   "metadata": {},
   "source": [
    "This notebook is going to run through the basics of using ... this notebook."
   ]
  },
  {
   "cell_type": "markdown",
   "metadata": {},
   "source": [
    "### Code cells\n",
    "\n",
    "The box below $\\downarrow$ is a Python code cell."
   ]
  },
  {
   "cell_type": "code",
   "execution_count": null,
   "metadata": {},
   "outputs": [],
   "source": [
    "print(\"Yes, hello Bob!\")"
   ]
  },
  {
   "cell_type": "markdown",
   "metadata": {},
   "source": [
    "The code cell above $\\uparrow$ hasn't been executed yet.\n",
    "\n",
    "Click in it to start editing it. Unless your name is Bob you might want to edit that. When you're done, press `ctrl-enter`."
   ]
  },
  {
   "cell_type": "code",
   "execution_count": null,
   "metadata": {},
   "outputs": [],
   "source": [
    "1+2+3"
   ]
  },
  {
   "cell_type": "markdown",
   "metadata": {},
   "source": [
    "Click in the code cell above $\\uparrow$ but **don't execute it yet**. Notice the <span style=\"color:green\">green</span> border.\n",
    "\n",
    "Now press `esc`. Did you see the border turn <span style=\"color:blue\">blue</span>?\n",
    "\n",
    "When the border is blue, you're in command mode. There are some handy shortcuts you can use in command mode:\n",
    "\n",
    "* `c` to copy a cell and `v` to paste it\n",
    "* `x` to cut a cell or `dd` to just delete it\n",
    "* `a` to insert a new cell above this one, `b` for a new cell below\n",
    "\n"
   ]
  },
  {
   "cell_type": "markdown",
   "metadata": {
    "collapsed": true
   },
   "source": [
    "This is the text cell that the cell below is talking about!"
   ]
  },
  {
   "cell_type": "markdown",
   "metadata": {},
   "source": [
    "New cells like $\\uparrow$ the one above start out as code cells. You can turn them into text cells by going into command mode (`esc`) and then pressing `m`.\n",
    "\n",
    "You can type notes and observations and explanations and thoughts and feelings, okay maybe not feelings, into text cells and you don't have to worry about them getting mixed up with your code.\n",
    "\n",
    "(The `m` is for *markdown* which is a text formatting system. You can get a taste for how it works by pressing enter on this cell, or any of the other text cells up there $\\uparrow$. When you're done editing, press `ctrl-enter` just like before.)"
   ]
  },
  {
   "cell_type": "code",
   "execution_count": 1,
   "metadata": {},
   "outputs": [
    {
     "name": "stdout",
     "output_type": "stream",
     "text": [
      "0\n",
      "1\n",
      "2\n",
      "0\n",
      "1\n",
      "2\n",
      "0\n"
     ]
    }
   ],
   "source": [
    "# You can still put comments in your code\n",
    "for i in [0,1,2,3,4,5,6]:\n",
    "    # What does % do?\n",
    "    print(i%3)"
   ]
  },
  {
   "cell_type": "markdown",
   "metadata": {},
   "source": [
    "### Blocks\n",
    "\n",
    "We're going to be using this Python library for visualising arrays later. Execute the cells below and then edit them and see what you can do."
   ]
  },
  {
   "cell_type": "code",
   "execution_count": null,
   "metadata": {},
   "outputs": [],
   "source": [
    "from ipythonblocks import BlockGrid"
   ]
  },
  {
   "cell_type": "code",
   "execution_count": null,
   "metadata": {},
   "outputs": [],
   "source": [
    "# Make a 5x5 grid\n",
    "grid = BlockGrid(5,5)\n",
    "# For each block in the grid\n",
    "for block in grid:\n",
    "    # Paint it red\n",
    "    block.rgb = (255,0,0)\n",
    "grid"
   ]
  },
  {
   "cell_type": "markdown",
   "metadata": {},
   "source": [
    "Okay, that was boring. Let's get *slightly* more creative:"
   ]
  },
  {
   "cell_type": "code",
   "execution_count": null,
   "metadata": {},
   "outputs": [],
   "source": [
    "grid = BlockGrid(5,5)\n",
    "for block in grid:\n",
    "    if block.col == 3:\n",
    "        block.rgb = (255,0,0)\n",
    "    elif block.row < 2:\n",
    "        block.rgb = (0,0,255)\n",
    "    else:\n",
    "        block.rgb = (0,255,0)\n",
    "grid"
   ]
  },
  {
   "cell_type": "markdown",
   "metadata": {},
   "source": [
    "## Task\n",
    "\n",
    "* Colour the blocks blue if the sum of the row and column numbers is more than 3\n",
    "* Colour the even columns green and the odd columns red\n",
    "* Make a 12x12 grid and colour the rows red, green, blue, red, green, blue, ...\n",
    "\n",
    "> Hint: you might want to use the `%` operator (see above)\n",
    "\n",
    "* Experiment"
   ]
  },
  {
   "cell_type": "markdown",
   "metadata": {},
   "source": [
    "If you get carried away and the notebook stops responding you can `restart` the `kernel` from the menu up the top."
   ]
  }
 ],
 "metadata": {
  "kernelspec": {
   "display_name": "Python 3",
   "language": "python",
   "name": "python3"
  },
  "language_info": {
   "codemirror_mode": {
    "name": "ipython",
    "version": 3
   },
   "file_extension": ".py",
   "mimetype": "text/x-python",
   "name": "python",
   "nbconvert_exporter": "python",
   "pygments_lexer": "ipython3",
   "version": "3.5.2"
  }
 },
 "nbformat": 4,
 "nbformat_minor": 2
}
